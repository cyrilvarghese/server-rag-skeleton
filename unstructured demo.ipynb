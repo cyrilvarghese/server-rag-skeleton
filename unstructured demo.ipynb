{
 "cells": [
  {
   "cell_type": "code",
   "execution_count": 1,
   "id": "47f2fab4-8b5e-475d-805b-79516d6a59c2",
   "metadata": {},
   "outputs": [
    {
     "name": "stdout",
     "output_type": "stream",
     "text": [
      "Requirement already satisfied: unstructured-client in /home/cyrilvarghese/miniforge3/lib/python3.10/site-packages (0.21.1)\n",
      "Requirement already satisfied: certifi>=2023.7.22 in /home/cyrilvarghese/miniforge3/lib/python3.10/site-packages (from unstructured-client) (2023.11.17)\n",
      "Requirement already satisfied: charset-normalizer>=3.2.0 in /home/cyrilvarghese/miniforge3/lib/python3.10/site-packages (from unstructured-client) (3.3.2)\n",
      "Requirement already satisfied: dataclasses-json>=0.6.4 in /home/cyrilvarghese/miniforge3/lib/python3.10/site-packages (from unstructured-client) (0.6.4)\n",
      "Requirement already satisfied: deepdiff>=6.0 in /home/cyrilvarghese/miniforge3/lib/python3.10/site-packages (from unstructured-client) (6.7.1)\n",
      "Requirement already satisfied: idna>=3.4 in /home/cyrilvarghese/miniforge3/lib/python3.10/site-packages (from unstructured-client) (3.6)\n",
      "Requirement already satisfied: jsonpath-python>=1.0.6 in /home/cyrilvarghese/miniforge3/lib/python3.10/site-packages (from unstructured-client) (1.0.6)\n",
      "Requirement already satisfied: marshmallow>=3.19.0 in /home/cyrilvarghese/miniforge3/lib/python3.10/site-packages (from unstructured-client) (3.21.1)\n",
      "Requirement already satisfied: mypy-extensions>=1.0.0 in /home/cyrilvarghese/miniforge3/lib/python3.10/site-packages (from unstructured-client) (1.0.0)\n",
      "Requirement already satisfied: packaging>=23.1 in /home/cyrilvarghese/miniforge3/lib/python3.10/site-packages (from unstructured-client) (23.2)\n",
      "Requirement already satisfied: pypdf>=4.0 in /home/cyrilvarghese/miniforge3/lib/python3.10/site-packages (from unstructured-client) (4.1.0)\n",
      "Requirement already satisfied: python-dateutil>=2.8.2 in /home/cyrilvarghese/miniforge3/lib/python3.10/site-packages (from unstructured-client) (2.9.0)\n",
      "Requirement already satisfied: requests>=2.31.0 in /home/cyrilvarghese/miniforge3/lib/python3.10/site-packages (from unstructured-client) (2.31.0)\n",
      "Requirement already satisfied: six>=1.16.0 in /home/cyrilvarghese/miniforge3/lib/python3.10/site-packages (from unstructured-client) (1.16.0)\n",
      "Requirement already satisfied: typing-inspect>=0.9.0 in /home/cyrilvarghese/miniforge3/lib/python3.10/site-packages (from unstructured-client) (0.9.0)\n",
      "Requirement already satisfied: typing-extensions>=4.7.1 in /home/cyrilvarghese/miniforge3/lib/python3.10/site-packages (from unstructured-client) (4.10.0)\n",
      "Requirement already satisfied: urllib3>=1.26.18 in /home/cyrilvarghese/miniforge3/lib/python3.10/site-packages (from unstructured-client) (1.26.18)\n",
      "Requirement already satisfied: ordered-set<4.2.0,>=4.0.2 in /home/cyrilvarghese/miniforge3/lib/python3.10/site-packages (from deepdiff>=6.0->unstructured-client) (4.1.0)\n"
     ]
    }
   ],
   "source": [
    "!pip install unstructured-client"
   ]
  },
  {
   "cell_type": "code",
   "execution_count": 4,
   "id": "e82bc834-404a-4029-8b38-e8adcc21b025",
   "metadata": {},
   "outputs": [
    {
     "name": "stderr",
     "output_type": "stream",
     "text": [
      "/home/cyrilvarghese/miniforge3/lib/python3.10/site-packages/unstructured_client/utils/_human_utils.py:91: UserWarning: If intending to use the paid API, please define `server_url` in your request.\n",
      "  warnings.warn(\n"
     ]
    },
    {
     "name": "stdout",
     "output_type": "stream",
     "text": [
      "API error occurred: Status 401\n",
      "{\"detail\":\"API key is invalid, please provide a valid API key in the header.\"}\n"
     ]
    }
   ],
   "source": [
    "from unstructured_client import UnstructuredClient\n",
    "from unstructured_client.models import shared\n",
    "from unstructured_client.models.errors import SDKError\n",
    "\n",
    "s = UnstructuredClient(api_key_auth=\"N5DDrsiGxV2Rdd5HkWhG2UcGBdye17\")\n",
    "\n",
    "filename = \"../server/uploads/educational-perf.pdf\"\n",
    "\n",
    "with open(filename, \"rb\") as f:\n",
    "    # Note that this currently only supports a single file\n",
    "    files=shared.Files(\n",
    "        content=f.read(),\n",
    "        file_name=filename,\n",
    "\t)\n",
    "\n",
    "req = shared.PartitionParameters(\n",
    "    files=files,\n",
    "    # Other partition params\n",
    "    strategy='ocr_only',\n",
    "    extract_image_block_types=['images','tables'],\n",
    "    languages=[\"eng\"],\n",
    ")\n",
    "\n",
    "try:\n",
    "    resp = s.general.partition(req)\n",
    "    print(resp.elements[0])\n",
    "except SDKError as e:\n",
    "    print(e)"
   ]
  },
  {
   "cell_type": "code",
   "execution_count": null,
   "id": "2c67eb7e-7009-47cd-a016-733cc5e9856d",
   "metadata": {},
   "outputs": [],
   "source": []
  }
 ],
 "metadata": {
  "kernelspec": {
   "display_name": "Python 3 (ipykernel)",
   "language": "python",
   "name": "python3"
  },
  "language_info": {
   "codemirror_mode": {
    "name": "ipython",
    "version": 3
   },
   "file_extension": ".py",
   "mimetype": "text/x-python",
   "name": "python",
   "nbconvert_exporter": "python",
   "pygments_lexer": "ipython3",
   "version": "3.10.13"
  }
 },
 "nbformat": 4,
 "nbformat_minor": 5
}
