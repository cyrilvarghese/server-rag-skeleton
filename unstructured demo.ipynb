{
 "cells": [
  {
   "cell_type": "code",
   "execution_count": 1,
   "id": "47f2fab4-8b5e-475d-805b-79516d6a59c2",
   "metadata": {},
   "outputs": [
    {
     "name": "stdout",
     "output_type": "stream",
     "text": [
      "Requirement already satisfied: unstructured-client in /home/cyrilvarghese/miniforge3/lib/python3.10/site-packages (0.21.1)\n",
      "Requirement already satisfied: certifi>=2023.7.22 in /home/cyrilvarghese/miniforge3/lib/python3.10/site-packages (from unstructured-client) (2023.11.17)\n",
      "Requirement already satisfied: charset-normalizer>=3.2.0 in /home/cyrilvarghese/miniforge3/lib/python3.10/site-packages (from unstructured-client) (3.3.2)\n",
      "Requirement already satisfied: dataclasses-json>=0.6.4 in /home/cyrilvarghese/miniforge3/lib/python3.10/site-packages (from unstructured-client) (0.6.4)\n",
      "Requirement already satisfied: deepdiff>=6.0 in /home/cyrilvarghese/miniforge3/lib/python3.10/site-packages (from unstructured-client) (6.7.1)\n",
      "Requirement already satisfied: idna>=3.4 in /home/cyrilvarghese/miniforge3/lib/python3.10/site-packages (from unstructured-client) (3.6)\n",
      "Requirement already satisfied: jsonpath-python>=1.0.6 in /home/cyrilvarghese/miniforge3/lib/python3.10/site-packages (from unstructured-client) (1.0.6)\n",
      "Requirement already satisfied: marshmallow>=3.19.0 in /home/cyrilvarghese/miniforge3/lib/python3.10/site-packages (from unstructured-client) (3.21.1)\n",
      "Requirement already satisfied: mypy-extensions>=1.0.0 in /home/cyrilvarghese/miniforge3/lib/python3.10/site-packages (from unstructured-client) (1.0.0)\n",
      "Requirement already satisfied: packaging>=23.1 in /home/cyrilvarghese/miniforge3/lib/python3.10/site-packages (from unstructured-client) (23.2)\n",
      "Requirement already satisfied: pypdf>=4.0 in /home/cyrilvarghese/miniforge3/lib/python3.10/site-packages (from unstructured-client) (4.1.0)\n",
      "Requirement already satisfied: python-dateutil>=2.8.2 in /home/cyrilvarghese/miniforge3/lib/python3.10/site-packages (from unstructured-client) (2.9.0)\n",
      "Requirement already satisfied: requests>=2.31.0 in /home/cyrilvarghese/miniforge3/lib/python3.10/site-packages (from unstructured-client) (2.31.0)\n",
      "Requirement already satisfied: six>=1.16.0 in /home/cyrilvarghese/miniforge3/lib/python3.10/site-packages (from unstructured-client) (1.16.0)\n",
      "Requirement already satisfied: typing-inspect>=0.9.0 in /home/cyrilvarghese/miniforge3/lib/python3.10/site-packages (from unstructured-client) (0.9.0)\n",
      "Requirement already satisfied: typing-extensions>=4.7.1 in /home/cyrilvarghese/miniforge3/lib/python3.10/site-packages (from unstructured-client) (4.10.0)\n",
      "Requirement already satisfied: urllib3>=1.26.18 in /home/cyrilvarghese/miniforge3/lib/python3.10/site-packages (from unstructured-client) (1.26.18)\n",
      "Requirement already satisfied: ordered-set<4.2.0,>=4.0.2 in /home/cyrilvarghese/miniforge3/lib/python3.10/site-packages (from deepdiff>=6.0->unstructured-client) (4.1.0)\n"
     ]
    }
   ],
   "source": [
    "!pip install unstructured-client"
   ]
  },
  {
   "cell_type": "code",
   "execution_count": 1,
   "id": "e82bc834-404a-4029-8b38-e8adcc21b025",
   "metadata": {},
   "outputs": [
    {
     "ename": "FileNotFoundError",
     "evalue": "[Errno 2] No such file or directory: '../server/uploads/educational-perf.pdf'",
     "output_type": "error",
     "traceback": [
      "\u001b[0;31m---------------------------------------------------------------------------\u001b[0m",
      "\u001b[0;31mFileNotFoundError\u001b[0m                         Traceback (most recent call last)",
      "Cell \u001b[0;32mIn[1], line 9\u001b[0m\n\u001b[1;32m      5\u001b[0m s \u001b[38;5;241m=\u001b[39m UnstructuredClient(api_key_auth\u001b[38;5;241m=\u001b[39m\u001b[38;5;124m\"\u001b[39m\u001b[38;5;124mN5DDrsiGxV2Rdd5HkWhG2UcGBdye17\u001b[39m\u001b[38;5;124m\"\u001b[39m)\n\u001b[1;32m      7\u001b[0m filename \u001b[38;5;241m=\u001b[39m \u001b[38;5;124m\"\u001b[39m\u001b[38;5;124m../server/uploads/educational-perf.pdf\u001b[39m\u001b[38;5;124m\"\u001b[39m\n\u001b[0;32m----> 9\u001b[0m \u001b[38;5;28;01mwith\u001b[39;00m \u001b[38;5;28;43mopen\u001b[39;49m\u001b[43m(\u001b[49m\u001b[43mfilename\u001b[49m\u001b[43m,\u001b[49m\u001b[43m \u001b[49m\u001b[38;5;124;43m\"\u001b[39;49m\u001b[38;5;124;43mrb\u001b[39;49m\u001b[38;5;124;43m\"\u001b[39;49m\u001b[43m)\u001b[49m \u001b[38;5;28;01mas\u001b[39;00m f:\n\u001b[1;32m     10\u001b[0m     \u001b[38;5;66;03m# Note that this currently only supports a single file\u001b[39;00m\n\u001b[1;32m     11\u001b[0m     files\u001b[38;5;241m=\u001b[39mshared\u001b[38;5;241m.\u001b[39mFiles(\n\u001b[1;32m     12\u001b[0m         content\u001b[38;5;241m=\u001b[39mf\u001b[38;5;241m.\u001b[39mread(),\n\u001b[1;32m     13\u001b[0m         file_name\u001b[38;5;241m=\u001b[39mfilename,\n\u001b[1;32m     14\u001b[0m \t)\n\u001b[1;32m     16\u001b[0m req \u001b[38;5;241m=\u001b[39m shared\u001b[38;5;241m.\u001b[39mPartitionParameters(\n\u001b[1;32m     17\u001b[0m     files\u001b[38;5;241m=\u001b[39mfiles,\n\u001b[1;32m     18\u001b[0m     \u001b[38;5;66;03m# Other partition params\u001b[39;00m\n\u001b[0;32m   (...)\u001b[0m\n\u001b[1;32m     21\u001b[0m     languages\u001b[38;5;241m=\u001b[39m[\u001b[38;5;124m\"\u001b[39m\u001b[38;5;124meng\u001b[39m\u001b[38;5;124m\"\u001b[39m],\n\u001b[1;32m     22\u001b[0m )\n",
      "File \u001b[0;32m~/miniforge3/lib/python3.10/site-packages/IPython/core/interactiveshell.py:324\u001b[0m, in \u001b[0;36m_modified_open\u001b[0;34m(file, *args, **kwargs)\u001b[0m\n\u001b[1;32m    317\u001b[0m \u001b[38;5;28;01mif\u001b[39;00m file \u001b[38;5;129;01min\u001b[39;00m {\u001b[38;5;241m0\u001b[39m, \u001b[38;5;241m1\u001b[39m, \u001b[38;5;241m2\u001b[39m}:\n\u001b[1;32m    318\u001b[0m     \u001b[38;5;28;01mraise\u001b[39;00m \u001b[38;5;167;01mValueError\u001b[39;00m(\n\u001b[1;32m    319\u001b[0m         \u001b[38;5;124mf\u001b[39m\u001b[38;5;124m\"\u001b[39m\u001b[38;5;124mIPython won\u001b[39m\u001b[38;5;124m'\u001b[39m\u001b[38;5;124mt let you open fd=\u001b[39m\u001b[38;5;132;01m{\u001b[39;00mfile\u001b[38;5;132;01m}\u001b[39;00m\u001b[38;5;124m by default \u001b[39m\u001b[38;5;124m\"\u001b[39m\n\u001b[1;32m    320\u001b[0m         \u001b[38;5;124m\"\u001b[39m\u001b[38;5;124mas it is likely to crash IPython. If you know what you are doing, \u001b[39m\u001b[38;5;124m\"\u001b[39m\n\u001b[1;32m    321\u001b[0m         \u001b[38;5;124m\"\u001b[39m\u001b[38;5;124myou can use builtins\u001b[39m\u001b[38;5;124m'\u001b[39m\u001b[38;5;124m open.\u001b[39m\u001b[38;5;124m\"\u001b[39m\n\u001b[1;32m    322\u001b[0m     )\n\u001b[0;32m--> 324\u001b[0m \u001b[38;5;28;01mreturn\u001b[39;00m \u001b[43mio_open\u001b[49m\u001b[43m(\u001b[49m\u001b[43mfile\u001b[49m\u001b[43m,\u001b[49m\u001b[43m \u001b[49m\u001b[38;5;241;43m*\u001b[39;49m\u001b[43margs\u001b[49m\u001b[43m,\u001b[49m\u001b[43m \u001b[49m\u001b[38;5;241;43m*\u001b[39;49m\u001b[38;5;241;43m*\u001b[39;49m\u001b[43mkwargs\u001b[49m\u001b[43m)\u001b[49m\n",
      "\u001b[0;31mFileNotFoundError\u001b[0m: [Errno 2] No such file or directory: '../server/uploads/educational-perf.pdf'"
     ]
    }
   ],
   "source": [
    "from unstructured_client import UnstructuredClient\n",
    "from unstructured_client.models import shared\n",
    "from unstructured_client.models.errors import SDKError\n",
    "\n",
    "s = UnstructuredClient(api_key_auth=\"N5DDrsiGxV2Rdd5HkWhG2UcGBdye17\")\n",
    "\n",
    "filename = \"../server/uploads/educational-perf.pdf\"\n",
    "\n",
    "with open(filename, \"rb\") as f:\n",
    "    # Note that this currently only supports a single file\n",
    "    files=shared.Files(\n",
    "        content=f.read(),\n",
    "        file_name=filename,\n",
    "\t)\n",
    "\n",
    "req = shared.PartitionParameters(\n",
    "    files=files,\n",
    "    # Other partition params\n",
    "    strategy='ocr_only',\n",
    "    extract_image_block_types=['images','tables'],\n",
    "    languages=[\"eng\"],\n",
    ")\n",
    "\n",
    "try:\n",
    "    resp = s.general.partition(req)\n",
    "    print(resp.elements[0])\n",
    "except SDKError as e:\n",
    "    print(e)"
   ]
  },
  {
   "cell_type": "code",
   "execution_count": null,
   "id": "2c67eb7e-7009-47cd-a016-733cc5e9856d",
   "metadata": {},
   "outputs": [],
   "source": []
  }
 ],
 "metadata": {
  "kernelspec": {
   "display_name": "Python 3 (ipykernel)",
   "language": "python",
   "name": "python3"
  },
  "language_info": {
   "codemirror_mode": {
    "name": "ipython",
    "version": 3
   },
   "file_extension": ".py",
   "mimetype": "text/x-python",
   "name": "python",
   "nbconvert_exporter": "python",
   "pygments_lexer": "ipython3",
   "version": "3.10.13"
  }
 },
 "nbformat": 4,
 "nbformat_minor": 5
}
