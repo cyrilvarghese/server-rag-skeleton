{
 "cells": [
  {
   "cell_type": "code",
   "execution_count": 1,
   "id": "5b180cc1-4697-4646-a9f7-5d63e383febd",
   "metadata": {},
   "outputs": [
    {
     "ename": "NameError",
     "evalue": "name 'chromadb' is not defined",
     "output_type": "error",
     "traceback": [
      "\u001b[0;31m---------------------------------------------------------------------------\u001b[0m",
      "\u001b[0;31mNameError\u001b[0m                                 Traceback (most recent call last)",
      "Cell \u001b[0;32mIn[1], line 1\u001b[0m\n\u001b[0;32m----> 1\u001b[0m chroma_client \u001b[38;5;241m=\u001b[39m \u001b[43mchromadb\u001b[49m\u001b[38;5;241m.\u001b[39mHttpClient(host\u001b[38;5;241m=\u001b[39m\u001b[38;5;124m'\u001b[39m\u001b[38;5;124mlocalhost\u001b[39m\u001b[38;5;124m'\u001b[39m, port\u001b[38;5;241m=\u001b[39m\u001b[38;5;241m3001\u001b[39m)\n",
      "\u001b[0;31mNameError\u001b[0m: name 'chromadb' is not defined"
     ]
    }
   ],
   "source": [
    " chroma_client = chromadb.HttpClient(host='localhost', port=3001)"
   ]
  },
  {
   "cell_type": "code",
   "execution_count": 2,
   "id": "2bf0d488-3725-4d12-94f7-4794900177b8",
   "metadata": {},
   "outputs": [],
   "source": [
    "import chromadb"
   ]
  },
  {
   "cell_type": "code",
   "execution_count": 3,
   "id": "ff7bc9a5-983b-46bb-990c-657c93ec161a",
   "metadata": {},
   "outputs": [],
   "source": [
    " chroma_client = chromadb.HttpClient(host='localhost', port=3001)"
   ]
  },
  {
   "cell_type": "code",
   "execution_count": 4,
   "id": "5fdc9b10-09f6-48ac-a561-d7ac4cb0221b",
   "metadata": {},
   "outputs": [],
   "source": [
    " collection = chroma_client.get_or_create_collection(name='test_collection')"
   ]
  },
  {
   "cell_type": "code",
   "execution_count": 7,
   "id": "323f929e-09b6-49ff-8302-b1e567a349ab",
   "metadata": {},
   "outputs": [
    {
     "ename": "ModuleNotFoundError",
     "evalue": "No module named 'langchain_chroma'",
     "output_type": "error",
     "traceback": [
      "\u001b[0;31m---------------------------------------------------------------------------\u001b[0m",
      "\u001b[0;31mModuleNotFoundError\u001b[0m                       Traceback (most recent call last)",
      "Cell \u001b[0;32mIn[7], line 1\u001b[0m\n\u001b[0;32m----> 1\u001b[0m \u001b[38;5;28;01mfrom\u001b[39;00m \u001b[38;5;21;01mlangchain_chroma\u001b[39;00m \u001b[38;5;28;01mimport\u001b[39;00m Chroma\n\u001b[1;32m      2\u001b[0m \u001b[38;5;28;01mfrom\u001b[39;00m \u001b[38;5;21;01mlangchain_core\u001b[39;00m\u001b[38;5;21;01m.\u001b[39;00m\u001b[38;5;21;01mdocuments\u001b[39;00m \u001b[38;5;28;01mimport\u001b[39;00m Document\n\u001b[1;32m      3\u001b[0m \u001b[38;5;28;01mfrom\u001b[39;00m \u001b[38;5;21;01mlangchain_openai\u001b[39;00m \u001b[38;5;28;01mimport\u001b[39;00m OpenAIEmbeddings\n",
      "\u001b[0;31mModuleNotFoundError\u001b[0m: No module named 'langchain_chroma'"
     ]
    }
   ],
   "source": [
    "from langchain_chroma import Chroma\n",
    "from langchain_core.documents import Document\n",
    "from langchain_openai import OpenAIEmbeddings\n",
    "from dotenv import load_dotenv\n",
    "\n",
    "load_dotenv()"
   ]
  },
  {
   "cell_type": "code",
   "execution_count": 8,
   "id": "574ac6f3-6dc0-4046-b4ca-d316179b1595",
   "metadata": {},
   "outputs": [
    {
     "name": "stdout",
     "output_type": "stream",
     "text": [
      "\u001b[31mERROR: pip's dependency resolver does not currently take into account all the packages that are installed. This behaviour is the source of the following dependency conflicts.\n",
      "rtfde 0.1.1 requires lark==1.1.8, but you have lark 1.1.9 which is incompatible.\u001b[0m\u001b[31m\n",
      "\u001b[0m"
     ]
    }
   ],
   "source": [
    "!pip install --upgrade --quiet  lark langchain-chroma\n"
   ]
  },
  {
   "cell_type": "code",
   "execution_count": 9,
   "id": "b6f59cb6-5532-43c4-88cf-f7dcefb02f23",
   "metadata": {},
   "outputs": [
    {
     "name": "stdout",
     "output_type": "stream",
     "text": [
      "Requirement already satisfied: langchain-chroma in /home/cyrilvarghese/miniforge3/lib/python3.10/site-packages (0.1.0)\n",
      "Requirement already satisfied: chromadb<0.5.0,>=0.4.0 in /home/cyrilvarghese/miniforge3/lib/python3.10/site-packages (from langchain-chroma) (0.4.24)\n",
      "Requirement already satisfied: fastapi<1,>=0.95.2 in /home/cyrilvarghese/miniforge3/lib/python3.10/site-packages (from langchain-chroma) (0.109.2)\n",
      "Requirement already satisfied: langchain-core<0.2.0,>=0.1.40 in /home/cyrilvarghese/miniforge3/lib/python3.10/site-packages (from langchain-chroma) (0.1.42)\n",
      "Requirement already satisfied: numpy<2,>=1 in /home/cyrilvarghese/miniforge3/lib/python3.10/site-packages (from langchain-chroma) (1.26.4)\n",
      "Requirement already satisfied: requests>=2.28 in /home/cyrilvarghese/miniforge3/lib/python3.10/site-packages (from chromadb<0.5.0,>=0.4.0->langchain-chroma) (2.31.0)\n",
      "Requirement already satisfied: pydantic>=1.9 in /home/cyrilvarghese/miniforge3/lib/python3.10/site-packages (from chromadb<0.5.0,>=0.4.0->langchain-chroma) (2.6.3)\n",
      "Requirement already satisfied: chroma-hnswlib==0.7.3 in /home/cyrilvarghese/miniforge3/lib/python3.10/site-packages (from chromadb<0.5.0,>=0.4.0->langchain-chroma) (0.7.3)\n",
      "Requirement already satisfied: uvicorn>=0.18.3 in /home/cyrilvarghese/miniforge3/lib/python3.10/site-packages (from uvicorn[standard]>=0.18.3->chromadb<0.5.0,>=0.4.0->langchain-chroma) (0.27.1)\n",
      "Requirement already satisfied: posthog>=2.4.0 in /home/cyrilvarghese/miniforge3/lib/python3.10/site-packages (from chromadb<0.5.0,>=0.4.0->langchain-chroma) (3.5.0)\n",
      "Requirement already satisfied: typing-extensions>=4.5.0 in /home/cyrilvarghese/miniforge3/lib/python3.10/site-packages (from chromadb<0.5.0,>=0.4.0->langchain-chroma) (4.10.0)\n",
      "Requirement already satisfied: pulsar-client>=3.1.0 in /home/cyrilvarghese/miniforge3/lib/python3.10/site-packages (from chromadb<0.5.0,>=0.4.0->langchain-chroma) (3.4.0)\n",
      "Requirement already satisfied: onnxruntime>=1.14.1 in /home/cyrilvarghese/miniforge3/lib/python3.10/site-packages (from chromadb<0.5.0,>=0.4.0->langchain-chroma) (1.15.1)\n",
      "Requirement already satisfied: opentelemetry-api>=1.2.0 in /home/cyrilvarghese/miniforge3/lib/python3.10/site-packages (from chromadb<0.5.0,>=0.4.0->langchain-chroma) (1.23.0)\n",
      "Requirement already satisfied: opentelemetry-exporter-otlp-proto-grpc>=1.2.0 in /home/cyrilvarghese/miniforge3/lib/python3.10/site-packages (from chromadb<0.5.0,>=0.4.0->langchain-chroma) (1.23.0)\n",
      "Requirement already satisfied: opentelemetry-instrumentation-fastapi>=0.41b0 in /home/cyrilvarghese/miniforge3/lib/python3.10/site-packages (from chromadb<0.5.0,>=0.4.0->langchain-chroma) (0.44b0)\n",
      "Requirement already satisfied: opentelemetry-sdk>=1.2.0 in /home/cyrilvarghese/miniforge3/lib/python3.10/site-packages (from chromadb<0.5.0,>=0.4.0->langchain-chroma) (1.23.0)\n",
      "Requirement already satisfied: tokenizers>=0.13.2 in /home/cyrilvarghese/miniforge3/lib/python3.10/site-packages (from chromadb<0.5.0,>=0.4.0->langchain-chroma) (0.15.2)\n",
      "Requirement already satisfied: pypika>=0.48.9 in /home/cyrilvarghese/miniforge3/lib/python3.10/site-packages (from chromadb<0.5.0,>=0.4.0->langchain-chroma) (0.48.9)\n",
      "Requirement already satisfied: tqdm>=4.65.0 in /home/cyrilvarghese/miniforge3/lib/python3.10/site-packages (from chromadb<0.5.0,>=0.4.0->langchain-chroma) (4.66.1)\n",
      "Requirement already satisfied: overrides>=7.3.1 in /home/cyrilvarghese/miniforge3/lib/python3.10/site-packages (from chromadb<0.5.0,>=0.4.0->langchain-chroma) (7.7.0)\n",
      "Requirement already satisfied: importlib-resources in /home/cyrilvarghese/miniforge3/lib/python3.10/site-packages (from chromadb<0.5.0,>=0.4.0->langchain-chroma) (6.1.2)\n",
      "Requirement already satisfied: grpcio>=1.58.0 in /home/cyrilvarghese/miniforge3/lib/python3.10/site-packages (from chromadb<0.5.0,>=0.4.0->langchain-chroma) (1.62.1)\n",
      "Requirement already satisfied: bcrypt>=4.0.1 in /home/cyrilvarghese/miniforge3/lib/python3.10/site-packages (from chromadb<0.5.0,>=0.4.0->langchain-chroma) (4.0.1)\n",
      "Requirement already satisfied: typer>=0.9.0 in /home/cyrilvarghese/miniforge3/lib/python3.10/site-packages (from chromadb<0.5.0,>=0.4.0->langchain-chroma) (0.9.0)\n",
      "Requirement already satisfied: kubernetes>=28.1.0 in /home/cyrilvarghese/miniforge3/lib/python3.10/site-packages (from chromadb<0.5.0,>=0.4.0->langchain-chroma) (29.0.0)\n",
      "Requirement already satisfied: tenacity>=8.2.3 in /home/cyrilvarghese/miniforge3/lib/python3.10/site-packages (from chromadb<0.5.0,>=0.4.0->langchain-chroma) (8.2.3)\n",
      "Requirement already satisfied: PyYAML>=6.0.0 in /home/cyrilvarghese/miniforge3/lib/python3.10/site-packages (from chromadb<0.5.0,>=0.4.0->langchain-chroma) (6.0.1)\n",
      "Requirement already satisfied: mmh3>=4.0.1 in /home/cyrilvarghese/miniforge3/lib/python3.10/site-packages (from chromadb<0.5.0,>=0.4.0->langchain-chroma) (4.1.0)\n",
      "Requirement already satisfied: orjson>=3.9.12 in /home/cyrilvarghese/miniforge3/lib/python3.10/site-packages (from chromadb<0.5.0,>=0.4.0->langchain-chroma) (3.9.15)\n",
      "Requirement already satisfied: starlette<0.37.0,>=0.36.3 in /home/cyrilvarghese/miniforge3/lib/python3.10/site-packages (from fastapi<1,>=0.95.2->langchain-chroma) (0.36.3)\n",
      "Requirement already satisfied: jsonpatch<2.0,>=1.33 in /home/cyrilvarghese/miniforge3/lib/python3.10/site-packages (from langchain-core<0.2.0,>=0.1.40->langchain-chroma) (1.33)\n",
      "Requirement already satisfied: langsmith<0.2.0,>=0.1.0 in /home/cyrilvarghese/miniforge3/lib/python3.10/site-packages (from langchain-core<0.2.0,>=0.1.40->langchain-chroma) (0.1.22)\n",
      "Requirement already satisfied: packaging<24.0,>=23.2 in /home/cyrilvarghese/miniforge3/lib/python3.10/site-packages (from langchain-core<0.2.0,>=0.1.40->langchain-chroma) (23.2)\n",
      "Requirement already satisfied: jsonpointer>=1.9 in /home/cyrilvarghese/miniforge3/lib/python3.10/site-packages (from jsonpatch<2.0,>=1.33->langchain-core<0.2.0,>=0.1.40->langchain-chroma) (2.4)\n",
      "Requirement already satisfied: certifi>=14.05.14 in /home/cyrilvarghese/miniforge3/lib/python3.10/site-packages (from kubernetes>=28.1.0->chromadb<0.5.0,>=0.4.0->langchain-chroma) (2023.11.17)\n",
      "Requirement already satisfied: six>=1.9.0 in /home/cyrilvarghese/miniforge3/lib/python3.10/site-packages (from kubernetes>=28.1.0->chromadb<0.5.0,>=0.4.0->langchain-chroma) (1.16.0)\n",
      "Requirement already satisfied: python-dateutil>=2.5.3 in /home/cyrilvarghese/miniforge3/lib/python3.10/site-packages (from kubernetes>=28.1.0->chromadb<0.5.0,>=0.4.0->langchain-chroma) (2.9.0)\n",
      "Requirement already satisfied: google-auth>=1.0.1 in /home/cyrilvarghese/miniforge3/lib/python3.10/site-packages (from kubernetes>=28.1.0->chromadb<0.5.0,>=0.4.0->langchain-chroma) (2.28.1)\n",
      "Requirement already satisfied: websocket-client!=0.40.0,!=0.41.*,!=0.42.*,>=0.32.0 in /home/cyrilvarghese/miniforge3/lib/python3.10/site-packages (from kubernetes>=28.1.0->chromadb<0.5.0,>=0.4.0->langchain-chroma) (1.7.0)\n",
      "Requirement already satisfied: requests-oauthlib in /home/cyrilvarghese/miniforge3/lib/python3.10/site-packages (from kubernetes>=28.1.0->chromadb<0.5.0,>=0.4.0->langchain-chroma) (1.3.1)\n",
      "Requirement already satisfied: oauthlib>=3.2.2 in /home/cyrilvarghese/miniforge3/lib/python3.10/site-packages (from kubernetes>=28.1.0->chromadb<0.5.0,>=0.4.0->langchain-chroma) (3.2.2)\n",
      "Requirement already satisfied: urllib3>=1.24.2 in /home/cyrilvarghese/miniforge3/lib/python3.10/site-packages (from kubernetes>=28.1.0->chromadb<0.5.0,>=0.4.0->langchain-chroma) (1.26.18)\n",
      "Requirement already satisfied: coloredlogs in /home/cyrilvarghese/miniforge3/lib/python3.10/site-packages (from onnxruntime>=1.14.1->chromadb<0.5.0,>=0.4.0->langchain-chroma) (15.0.1)\n",
      "Requirement already satisfied: flatbuffers in /home/cyrilvarghese/miniforge3/lib/python3.10/site-packages (from onnxruntime>=1.14.1->chromadb<0.5.0,>=0.4.0->langchain-chroma) (23.5.26)\n",
      "Requirement already satisfied: protobuf in /home/cyrilvarghese/miniforge3/lib/python3.10/site-packages (from onnxruntime>=1.14.1->chromadb<0.5.0,>=0.4.0->langchain-chroma) (4.24.4)\n",
      "Requirement already satisfied: sympy in /home/cyrilvarghese/miniforge3/lib/python3.10/site-packages (from onnxruntime>=1.14.1->chromadb<0.5.0,>=0.4.0->langchain-chroma) (1.12)\n",
      "Requirement already satisfied: deprecated>=1.2.6 in /home/cyrilvarghese/miniforge3/lib/python3.10/site-packages (from opentelemetry-api>=1.2.0->chromadb<0.5.0,>=0.4.0->langchain-chroma) (1.2.14)\n",
      "Requirement already satisfied: importlib-metadata<7.0,>=6.0 in /home/cyrilvarghese/miniforge3/lib/python3.10/site-packages (from opentelemetry-api>=1.2.0->chromadb<0.5.0,>=0.4.0->langchain-chroma) (6.10.0)\n",
      "Requirement already satisfied: googleapis-common-protos~=1.52 in /home/cyrilvarghese/miniforge3/lib/python3.10/site-packages (from opentelemetry-exporter-otlp-proto-grpc>=1.2.0->chromadb<0.5.0,>=0.4.0->langchain-chroma) (1.62.0)\n",
      "Requirement already satisfied: opentelemetry-exporter-otlp-proto-common==1.23.0 in /home/cyrilvarghese/miniforge3/lib/python3.10/site-packages (from opentelemetry-exporter-otlp-proto-grpc>=1.2.0->chromadb<0.5.0,>=0.4.0->langchain-chroma) (1.23.0)\n",
      "Requirement already satisfied: opentelemetry-proto==1.23.0 in /home/cyrilvarghese/miniforge3/lib/python3.10/site-packages (from opentelemetry-exporter-otlp-proto-grpc>=1.2.0->chromadb<0.5.0,>=0.4.0->langchain-chroma) (1.23.0)\n",
      "Requirement already satisfied: opentelemetry-instrumentation-asgi==0.44b0 in /home/cyrilvarghese/miniforge3/lib/python3.10/site-packages (from opentelemetry-instrumentation-fastapi>=0.41b0->chromadb<0.5.0,>=0.4.0->langchain-chroma) (0.44b0)\n",
      "Requirement already satisfied: opentelemetry-instrumentation==0.44b0 in /home/cyrilvarghese/miniforge3/lib/python3.10/site-packages (from opentelemetry-instrumentation-fastapi>=0.41b0->chromadb<0.5.0,>=0.4.0->langchain-chroma) (0.44b0)\n",
      "Requirement already satisfied: opentelemetry-semantic-conventions==0.44b0 in /home/cyrilvarghese/miniforge3/lib/python3.10/site-packages (from opentelemetry-instrumentation-fastapi>=0.41b0->chromadb<0.5.0,>=0.4.0->langchain-chroma) (0.44b0)\n",
      "Requirement already satisfied: opentelemetry-util-http==0.44b0 in /home/cyrilvarghese/miniforge3/lib/python3.10/site-packages (from opentelemetry-instrumentation-fastapi>=0.41b0->chromadb<0.5.0,>=0.4.0->langchain-chroma) (0.44b0)\n",
      "Requirement already satisfied: setuptools>=16.0 in /home/cyrilvarghese/miniforge3/lib/python3.10/site-packages (from opentelemetry-instrumentation==0.44b0->opentelemetry-instrumentation-fastapi>=0.41b0->chromadb<0.5.0,>=0.4.0->langchain-chroma) (68.2.2)\n",
      "Requirement already satisfied: wrapt<2.0.0,>=1.0.0 in /home/cyrilvarghese/miniforge3/lib/python3.10/site-packages (from opentelemetry-instrumentation==0.44b0->opentelemetry-instrumentation-fastapi>=0.41b0->chromadb<0.5.0,>=0.4.0->langchain-chroma) (1.16.0)\n",
      "Requirement already satisfied: asgiref~=3.0 in /home/cyrilvarghese/miniforge3/lib/python3.10/site-packages (from opentelemetry-instrumentation-asgi==0.44b0->opentelemetry-instrumentation-fastapi>=0.41b0->chromadb<0.5.0,>=0.4.0->langchain-chroma) (3.7.2)\n",
      "Requirement already satisfied: monotonic>=1.5 in /home/cyrilvarghese/miniforge3/lib/python3.10/site-packages (from posthog>=2.4.0->chromadb<0.5.0,>=0.4.0->langchain-chroma) (1.5)\n",
      "Requirement already satisfied: backoff>=1.10.0 in /home/cyrilvarghese/miniforge3/lib/python3.10/site-packages (from posthog>=2.4.0->chromadb<0.5.0,>=0.4.0->langchain-chroma) (2.2.1)\n",
      "Requirement already satisfied: annotated-types>=0.4.0 in /home/cyrilvarghese/miniforge3/lib/python3.10/site-packages (from pydantic>=1.9->chromadb<0.5.0,>=0.4.0->langchain-chroma) (0.6.0)\n",
      "Requirement already satisfied: pydantic-core==2.16.3 in /home/cyrilvarghese/miniforge3/lib/python3.10/site-packages (from pydantic>=1.9->chromadb<0.5.0,>=0.4.0->langchain-chroma) (2.16.3)\n",
      "Requirement already satisfied: charset-normalizer<4,>=2 in /home/cyrilvarghese/miniforge3/lib/python3.10/site-packages (from requests>=2.28->chromadb<0.5.0,>=0.4.0->langchain-chroma) (3.3.2)\n",
      "Requirement already satisfied: idna<4,>=2.5 in /home/cyrilvarghese/miniforge3/lib/python3.10/site-packages (from requests>=2.28->chromadb<0.5.0,>=0.4.0->langchain-chroma) (3.6)\n",
      "Requirement already satisfied: anyio<5,>=3.4.0 in /home/cyrilvarghese/miniforge3/lib/python3.10/site-packages (from starlette<0.37.0,>=0.36.3->fastapi<1,>=0.95.2->langchain-chroma) (4.3.0)\n",
      "Requirement already satisfied: huggingface_hub<1.0,>=0.16.4 in /home/cyrilvarghese/miniforge3/lib/python3.10/site-packages (from tokenizers>=0.13.2->chromadb<0.5.0,>=0.4.0->langchain-chroma) (0.20.3)\n",
      "Requirement already satisfied: click<9.0.0,>=7.1.1 in /home/cyrilvarghese/miniforge3/lib/python3.10/site-packages (from typer>=0.9.0->chromadb<0.5.0,>=0.4.0->langchain-chroma) (8.1.7)\n",
      "Requirement already satisfied: h11>=0.8 in /home/cyrilvarghese/miniforge3/lib/python3.10/site-packages (from uvicorn>=0.18.3->uvicorn[standard]>=0.18.3->chromadb<0.5.0,>=0.4.0->langchain-chroma) (0.14.0)\n",
      "Requirement already satisfied: httptools>=0.5.0 in /home/cyrilvarghese/miniforge3/lib/python3.10/site-packages (from uvicorn[standard]>=0.18.3->chromadb<0.5.0,>=0.4.0->langchain-chroma) (0.6.1)\n",
      "Requirement already satisfied: python-dotenv>=0.13 in /home/cyrilvarghese/miniforge3/lib/python3.10/site-packages (from uvicorn[standard]>=0.18.3->chromadb<0.5.0,>=0.4.0->langchain-chroma) (0.21.1)\n",
      "Requirement already satisfied: uvloop!=0.15.0,!=0.15.1,>=0.14.0 in /home/cyrilvarghese/miniforge3/lib/python3.10/site-packages (from uvicorn[standard]>=0.18.3->chromadb<0.5.0,>=0.4.0->langchain-chroma) (0.19.0)\n",
      "Requirement already satisfied: watchfiles>=0.13 in /home/cyrilvarghese/miniforge3/lib/python3.10/site-packages (from uvicorn[standard]>=0.18.3->chromadb<0.5.0,>=0.4.0->langchain-chroma) (0.21.0)\n",
      "Requirement already satisfied: websockets>=10.4 in /home/cyrilvarghese/miniforge3/lib/python3.10/site-packages (from uvicorn[standard]>=0.18.3->chromadb<0.5.0,>=0.4.0->langchain-chroma) (10.4)\n",
      "Requirement already satisfied: sniffio>=1.1 in /home/cyrilvarghese/miniforge3/lib/python3.10/site-packages (from anyio<5,>=3.4.0->starlette<0.37.0,>=0.36.3->fastapi<1,>=0.95.2->langchain-chroma) (1.3.1)\n",
      "Requirement already satisfied: exceptiongroup>=1.0.2 in /home/cyrilvarghese/miniforge3/lib/python3.10/site-packages (from anyio<5,>=3.4.0->starlette<0.37.0,>=0.36.3->fastapi<1,>=0.95.2->langchain-chroma) (1.2.0)\n",
      "Requirement already satisfied: cachetools<6.0,>=2.0.0 in /home/cyrilvarghese/miniforge3/lib/python3.10/site-packages (from google-auth>=1.0.1->kubernetes>=28.1.0->chromadb<0.5.0,>=0.4.0->langchain-chroma) (5.3.3)\n",
      "Requirement already satisfied: pyasn1-modules>=0.2.1 in /home/cyrilvarghese/miniforge3/lib/python3.10/site-packages (from google-auth>=1.0.1->kubernetes>=28.1.0->chromadb<0.5.0,>=0.4.0->langchain-chroma) (0.3.0)\n",
      "Requirement already satisfied: rsa<5,>=3.1.4 in /home/cyrilvarghese/miniforge3/lib/python3.10/site-packages (from google-auth>=1.0.1->kubernetes>=28.1.0->chromadb<0.5.0,>=0.4.0->langchain-chroma) (4.9)\n",
      "Requirement already satisfied: filelock in /home/cyrilvarghese/miniforge3/lib/python3.10/site-packages (from huggingface_hub<1.0,>=0.16.4->tokenizers>=0.13.2->chromadb<0.5.0,>=0.4.0->langchain-chroma) (3.13.1)\n",
      "Requirement already satisfied: fsspec>=2023.5.0 in /home/cyrilvarghese/miniforge3/lib/python3.10/site-packages (from huggingface_hub<1.0,>=0.16.4->tokenizers>=0.13.2->chromadb<0.5.0,>=0.4.0->langchain-chroma) (2024.2.0)\n",
      "Requirement already satisfied: zipp>=0.5 in /home/cyrilvarghese/miniforge3/lib/python3.10/site-packages (from importlib-metadata<7.0,>=6.0->opentelemetry-api>=1.2.0->chromadb<0.5.0,>=0.4.0->langchain-chroma) (3.17.0)\n",
      "Requirement already satisfied: humanfriendly>=9.1 in /home/cyrilvarghese/miniforge3/lib/python3.10/site-packages (from coloredlogs->onnxruntime>=1.14.1->chromadb<0.5.0,>=0.4.0->langchain-chroma) (10.0)\n",
      "Requirement already satisfied: mpmath>=0.19 in /home/cyrilvarghese/miniforge3/lib/python3.10/site-packages (from sympy->onnxruntime>=1.14.1->chromadb<0.5.0,>=0.4.0->langchain-chroma) (1.3.0)\n",
      "Requirement already satisfied: pyasn1<0.6.0,>=0.4.6 in /home/cyrilvarghese/miniforge3/lib/python3.10/site-packages (from pyasn1-modules>=0.2.1->google-auth>=1.0.1->kubernetes>=28.1.0->chromadb<0.5.0,>=0.4.0->langchain-chroma) (0.5.1)\n"
     ]
    }
   ],
   "source": [
    "!pip install langchain-chroma"
   ]
  },
  {
   "cell_type": "code",
   "execution_count": 26,
   "id": "67a265bd-4753-4bbd-92b0-18c739c09c9f",
   "metadata": {},
   "outputs": [
    {
     "data": {
      "text/plain": [
       "True"
      ]
     },
     "execution_count": 26,
     "metadata": {},
     "output_type": "execute_result"
    }
   ],
   "source": [
    "from langchain_chroma import Chroma\n",
    "from langchain_core.documents import Document\n",
    "from langchain_openai import OpenAIEmbeddings\n",
    "from dotenv import load_dotenv\n",
    "\n",
    "load_dotenv()"
   ]
  },
  {
   "cell_type": "code",
   "execution_count": 27,
   "id": "10376cb0-d9e3-4803-b80a-388abf958a08",
   "metadata": {},
   "outputs": [],
   "source": [
    "from  langchain_community.vectorstores import Chroma\n",
    "from langchain_openai import OpenAIEmbeddings"
   ]
  },
  {
   "cell_type": "code",
   "execution_count": 28,
   "id": "25698474-77e7-4539-b45e-c0fc7977b9aa",
   "metadata": {},
   "outputs": [
    {
     "ename": "IndentationError",
     "evalue": "unexpected indent (1546824131.py, line 2)",
     "output_type": "error",
     "traceback": [
      "\u001b[0;36m  Cell \u001b[0;32mIn[28], line 2\u001b[0;36m\u001b[0m\n\u001b[0;31m    embeddings = OpenAIEmbeddings(model= \"text-embedding-3-large\")\u001b[0m\n\u001b[0m    ^\u001b[0m\n\u001b[0;31mIndentationError\u001b[0m\u001b[0;31m:\u001b[0m unexpected indent\n"
     ]
    }
   ],
   "source": [
    " chroma_client = chromadb.HttpClient(host='localhost', port=3001)\n",
    "    embeddings = OpenAIEmbeddings(model= \"text-embedding-3-large\")"
   ]
  },
  {
   "cell_type": "code",
   "execution_count": 29,
   "id": "ef95ef21-8a19-43d8-be6b-aab44b8ea85d",
   "metadata": {},
   "outputs": [],
   "source": [
    " chroma_client = chromadb.HttpClient(host='localhost', port=3001)\n",
    " embeddings = OpenAIEmbeddings(model= \"text-embedding-3-large\")"
   ]
  },
  {
   "cell_type": "code",
   "execution_count": 30,
   "id": "415ad0c9-8ed0-4ef4-a7c5-3bef14d673a4",
   "metadata": {},
   "outputs": [],
   "source": [
    " langchain_chroma = Chroma(\n",
    "        client=chroma_client,\n",
    "        collection_name='internal-document-store',\n",
    "        embedding_function=embeddings,\n",
    "    )"
   ]
  },
  {
   "cell_type": "code",
   "execution_count": 31,
   "id": "6a3373c6-0a0e-489c-a479-a4bf466f3bd2",
   "metadata": {},
   "outputs": [
    {
     "ename": "AttributeError",
     "evalue": "'Collection' object has no attribute 'list_collections'",
     "output_type": "error",
     "traceback": [
      "\u001b[0;31m---------------------------------------------------------------------------\u001b[0m",
      "\u001b[0;31mAttributeError\u001b[0m                            Traceback (most recent call last)",
      "Cell \u001b[0;32mIn[31], line 1\u001b[0m\n\u001b[0;32m----> 1\u001b[0m \u001b[43mlangchain_chroma\u001b[49m\u001b[38;5;241;43m.\u001b[39;49m\u001b[43m_collection\u001b[49m\u001b[38;5;241;43m.\u001b[39;49m\u001b[43mlist_collections\u001b[49m()\n",
      "File \u001b[0;32m~/miniforge3/lib/python3.10/site-packages/pydantic/main.py:767\u001b[0m, in \u001b[0;36mBaseModel.__getattr__\u001b[0;34m(self, item)\u001b[0m\n\u001b[1;32m    764\u001b[0m     \u001b[38;5;28;01mreturn\u001b[39;00m \u001b[38;5;28msuper\u001b[39m()\u001b[38;5;241m.\u001b[39m\u001b[38;5;21m__getattribute__\u001b[39m(item)  \u001b[38;5;66;03m# Raises AttributeError if appropriate\u001b[39;00m\n\u001b[1;32m    765\u001b[0m \u001b[38;5;28;01melse\u001b[39;00m:\n\u001b[1;32m    766\u001b[0m     \u001b[38;5;66;03m# this is the current error\u001b[39;00m\n\u001b[0;32m--> 767\u001b[0m     \u001b[38;5;28;01mraise\u001b[39;00m \u001b[38;5;167;01mAttributeError\u001b[39;00m(\u001b[38;5;124mf\u001b[39m\u001b[38;5;124m'\u001b[39m\u001b[38;5;132;01m{\u001b[39;00m\u001b[38;5;28mtype\u001b[39m(\u001b[38;5;28mself\u001b[39m)\u001b[38;5;241m.\u001b[39m\u001b[38;5;18m__name__\u001b[39m\u001b[38;5;132;01m!r}\u001b[39;00m\u001b[38;5;124m object has no attribute \u001b[39m\u001b[38;5;132;01m{\u001b[39;00mitem\u001b[38;5;132;01m!r}\u001b[39;00m\u001b[38;5;124m'\u001b[39m)\n",
      "\u001b[0;31mAttributeError\u001b[0m: 'Collection' object has no attribute 'list_collections'"
     ]
    }
   ],
   "source": [
    "langchain_chroma._collection.list_collections()"
   ]
  },
  {
   "cell_type": "code",
   "execution_count": 32,
   "id": "58b58ad6-cbb3-473c-92d1-7cc81f50a366",
   "metadata": {},
   "outputs": [],
   "source": [
    "chroma_client = chromadb.HttpClient(host='localhost', port=3001)"
   ]
  },
  {
   "cell_type": "code",
   "execution_count": 33,
   "id": "70422705-23db-43cd-9b8c-1c3f03ffa26c",
   "metadata": {},
   "outputs": [
    {
     "data": {
      "text/plain": [
       "[Collection(name=internal-document-store)]"
      ]
     },
     "execution_count": 33,
     "metadata": {},
     "output_type": "execute_result"
    }
   ],
   "source": [
    "chroma_client.list_collections()"
   ]
  },
  {
   "cell_type": "code",
   "execution_count": 34,
   "id": "67e2776a-e3cf-46d1-b1a6-0316504186d7",
   "metadata": {},
   "outputs": [
    {
     "data": {
      "text/plain": [
       "Collection(name=internal-document-store)"
      ]
     },
     "execution_count": 34,
     "metadata": {},
     "output_type": "execute_result"
    }
   ],
   "source": [
    "chroma_client.get_collection('internal-document-store'\n",
    "                            )"
   ]
  },
  {
   "cell_type": "code",
   "execution_count": 35,
   "id": "4a191a0e-a60f-4509-b714-095a6a9dec0c",
   "metadata": {},
   "outputs": [
    {
     "data": {
      "text/plain": [
       "7"
      ]
     },
     "execution_count": 35,
     "metadata": {},
     "output_type": "execute_result"
    }
   ],
   "source": [
    "chroma_client.get_collection('internal-document-store'\n",
    "                            ).count()\n"
   ]
  },
  {
   "cell_type": "code",
   "execution_count": 36,
   "id": "e4083d3b-d6a6-4508-9c43-a721c64fa9ce",
   "metadata": {},
   "outputs": [],
   "source": [
    "langchain_chroma = Chroma(\n",
    "        client=chroma_client,\n",
    "        collection_name='internal-document-store',\n",
    "        embedding_function=embeddings,\n",
    "    )"
   ]
  },
  {
   "cell_type": "code",
   "execution_count": 37,
   "id": "bd7e0ad3-6abb-438d-a7f1-480f49ca9d12",
   "metadata": {},
   "outputs": [
    {
     "data": {
      "text/plain": [
       "7"
      ]
     },
     "execution_count": 37,
     "metadata": {},
     "output_type": "execute_result"
    }
   ],
   "source": [
    "langchain_chroma._collection.count()"
   ]
  },
  {
   "cell_type": "code",
   "execution_count": 39,
   "id": "c5db0465-d98e-4225-babb-a87898cba31f",
   "metadata": {},
   "outputs": [],
   "source": [
    "docs=langchain_chroma.get(where={\"source\": \"../server/uploads/Financial_Report_FY2023_Complete.pdf\"})"
   ]
  },
  {
   "cell_type": "code",
   "execution_count": 40,
   "id": "37adacad-f5ec-458b-9c1a-87550573652d",
   "metadata": {},
   "outputs": [
    {
     "name": "stdout",
     "output_type": "stream",
     "text": [
      "{'ids': ['21914245-efeb-5fb0-ad0f-b80ef92443de', '427cffdb-aeb1-5907-ab60-a67c4f9a2ed0', '54233975-261e-50c7-b82a-bdc37450c8ff', '9081ab72-de57-5364-9269-8a4c9defd35c', 'a8b9d004-74f2-5a2d-9354-b8af872209b5', 'e9ca0a7a-2781-5de7-b274-9d2e240f7a35', 'ef229c81-d1c5-53c7-8860-c4a65810b157'], 'embeddings': None, 'metadatas': [{'page': 1, 'source': '../server/uploads/Financial_Report_FY2023_Complete.pdf', 'tags': '[{\"tag_name\": \"data-integrity-and-monitoring\", \"score\": \"-9.567792\"}, {\"tag_name\": \"special-education-focus\", \"score\": \"-9.630215\"}, {\"tag_name\": \"educational-performance\", \"score\": \"-9.855243\"}]'}, {'page': 8, 'source': '../server/uploads/Financial_Report_FY2023_Complete.pdf', 'tags': '[{\"tag_name\": \"parent-and-community-engagement\", \"score\": \"-8.543798\"}, {\"tag_name\": \"educational-performance\", \"score\": \"-9.052651\"}, {\"tag_name\": \"special-education-focus\", \"score\": \"-9.3245535\"}]'}, {'page': 0, 'source': '../server/uploads/Financial_Report_FY2023_Complete.pdf', 'tags': '[{\"tag_name\": \"parent-and-community-engagement\", \"score\": \"-8.543798\"}, {\"tag_name\": \"educational-performance\", \"score\": \"-9.052651\"}, {\"tag_name\": \"special-education-focus\", \"score\": \"-9.3245535\"}]'}, {'page': 6, 'source': '../server/uploads/Financial_Report_FY2023_Complete.pdf', 'tags': '[{\"tag_name\": \"data-integrity-and-monitoring\", \"score\": \"-9.173809\"}, {\"tag_name\": \"special-education-focus\", \"score\": \"-9.746918\"}]'}, {'page': 4, 'source': '../server/uploads/Financial_Report_FY2023_Complete.pdf', 'tags': '[{\"tag_name\": \"data-integrity-and-monitoring\", \"score\": \"-9.567792\"}, {\"tag_name\": \"special-education-focus\", \"score\": \"-9.630215\"}, {\"tag_name\": \"educational-performance\", \"score\": \"-9.855243\"}]'}, {'page': 5, 'source': '../server/uploads/Financial_Report_FY2023_Complete.pdf', 'tags': '[{\"tag_name\": \"parent-and-community-engagement\", \"score\": \"-9.198803\"}, {\"tag_name\": \"special-education-focus\", \"score\": \"-9.420217\"}, {\"tag_name\": \"educational-performance\", \"score\": \"-9.768042\"}, {\"tag_name\": \"compliance-and-improvement\", \"score\": \"-9.915693\"}]'}, {'page': 3, 'source': '../server/uploads/Financial_Report_FY2023_Complete.pdf', 'tags': '[{\"tag_name\": \"parent-and-community-engagement\", \"score\": \"-8.543798\"}, {\"tag_name\": \"educational-performance\", \"score\": \"-9.052651\"}, {\"tag_name\": \"special-education-focus\", \"score\": \"-9.3245535\"}]'}], 'documents': ['Internal Financial Performance Report - FY 2023\\non expanding our market presence, driving innovation, and enhancing operational efficiencies. With\\na solid financial foundation and a clear strategic direction, we are committed to delivering long-term\\nvalue to our stakeholders.\\nThis executive summary offers a glimpse into the achievements and strategic direction of XYZ\\nCorporation. As we move forward, we are excited about the opportunities that lie ahead and are\\ncommitted to achieving our vision of becoming a global leader in our industry.', 'Internal Financial Performance Report - FY 2023\\n1. Executive Summary\\nThe fiscal year 2023 marked a pivotal point for XYZ Corporation, underscoring a period of\\nremarkable growth and resilience. Amidst challenging global market conditions, our company not\\nonly achieved but surpassed our financial targets, reflecting the strength and dedication of our team\\nand the strategic foresight of our management.\\nFinancial Highlights:\\n- A record-breaking revenue increase of 15% over the previous fiscal year, reaching $120 million.\\n- Net income soared by 20%, demonstrating our ability to manage costs effectively while scaling our\\noperations.\\n- Significant expansion into three new international markets, contributing to a diversified and robust\\nrevenue stream.\\nStrategic Achievements:\\n- Successful launch of Product A in the European market, which has been met with outstanding\\ncustomer reception and demand.\\n- Implementation of a company-wide digital transformation initiative that has streamlined operations,\\nimproved customer engagement, and driven efficiency.\\n- Investment in R&D has yielded two new patents, setting the stage for future innovation and market\\nleadership.\\nLooking Ahead:\\nXYZ Corporation is well-positioned for sustained growth in the coming years. Our focus will remain', 'Internal Financial Performance Report - FY 2023\\n1. Executive Summary\\nThe fiscal year 2023 marked a pivotal point for XYZ Corporation, underscoring a period of\\nremarkable growth and resilience. Amidst challenging global market conditions, our company not\\nonly achieved but surpassed our financial targets, reflecting the strength and dedication of our team\\nand the strategic foresight of our management.\\nFinancial Highlights:\\n- A record-breaking revenue increase of 15% over the previous fiscal year, reaching $120 million.\\n- Net income soared by 20%, demonstrating our ability to manage costs effectively while scaling our\\noperations.\\n- Significant expansion into three new international markets, contributing to a diversified and robust\\nrevenue stream.\\nStrategic Achievements:\\n- Successful launch of Product A in the European market, which has been met with outstanding\\ncustomer reception and demand.\\n- Implementation of a company-wide digital transformation initiative that has streamlined operations,\\nimproved customer engagement, and driven efficiency.\\n- Investment in R&D has yielded two new patents, setting the stage for future innovation and market\\nleadership.\\nLooking Ahead:\\nXYZ Corporation is well-positioned for sustained growth in the coming years. Our focus will remain', 'Internal Financial Performance Report - FY 2023\\npatents filed during the year.\\nThe financial overview of FY 2023 reflects our strategic focus on growth, efficiency, and innovation.\\nBy effectively managing our expenses and investing in areas with the highest return potential, we\\nhave enhanced our profitability and positioned XYZ Corporation for continued success.\\nLooking ahead, we will continue to pursue opportunities for growth while maintaining our\\ncommitment to financial discipline and operational excellence. Our goal is to ensure sustainable\\ngrowth and value creation for our stakeholders.', 'Internal Financial Performance Report - FY 2023\\non expanding our market presence, driving innovation, and enhancing operational efficiencies. With\\na solid financial foundation and a clear strategic direction, we are committed to delivering long-term\\nvalue to our stakeholders.\\nThis executive summary offers a glimpse into the achievements and strategic direction of XYZ\\nCorporation. As we move forward, we are excited about the opportunities that lie ahead and are\\ncommitted to achieving our vision of becoming a global leader in our industry.', \"Internal Financial Performance Report - FY 2023\\n2. Financial Overview\\n2. Financial Overview\\nThe financial landscape of XYZ Corporation in FY 2023 has been characterized by robust growth\\nand strategic investments, leading to outstanding financial outcomes. Our comprehensive approach\\nto revenue generation, cost management, and investment in future growth drivers has solidified our\\nfinancial position and set a strong foundation for the future.\\nRevenue Summary:\\n- Total Revenue reached $120 million, a 15% increase from FY 2022, driven by diversified product\\nofferings and successful market expansion strategies.\\n- Product A's introduction to the European market led to a 20% revenue increase in this segment,\\noutperforming expectations and contributing significantly to the overall growth.\\n- Service divisions saw a 15% increase in revenue, benefiting from new service offerings and\\nimproved customer engagement strategies.\\nExpense Summary:\\n- Total Expenses amounted to $80 million, with a disciplined approach to spending resulting in a\\nmodest 5% year-over-year increase.\\n- Marketing expenses were strategically increased by 20% to $15 million to support new product\\nlaunches and expand into new markets, yielding a substantial return on investment.\\n- Research and Development expenses grew by 25% to $10 million, reflecting our commitment to\\ninnovation and future growth. This investment has already started yielding results, with two new\", 'Internal Financial Performance Report - FY 2023\\n1. Executive Summary\\nThe fiscal year 2023 marked a pivotal point for XYZ Corporation, underscoring a period of\\nremarkable growth and resilience. Amidst challenging global market conditions, our company not\\nonly achieved but surpassed our financial targets, reflecting the strength and dedication of our team\\nand the strategic foresight of our management.\\nFinancial Highlights:\\n- A record-breaking revenue increase of 15% over the previous fiscal year, reaching $120 million.\\n- Net income soared by 20%, demonstrating our ability to manage costs effectively while scaling our\\noperations.\\n- Significant expansion into three new international markets, contributing to a diversified and robust\\nrevenue stream.\\nStrategic Achievements:\\n- Successful launch of Product A in the European market, which has been met with outstanding\\ncustomer reception and demand.\\n- Implementation of a company-wide digital transformation initiative that has streamlined operations,\\nimproved customer engagement, and driven efficiency.\\n- Investment in R&D has yielded two new patents, setting the stage for future innovation and market\\nleadership.\\nLooking Ahead:\\nXYZ Corporation is well-positioned for sustained growth in the coming years. Our focus will remain'], 'data': None, 'uris': None}\n"
     ]
    }
   ],
   "source": [
    "print(docs)\n"
   ]
  },
  {
   "cell_type": "code",
   "execution_count": 42,
   "id": "962c6cc4-dcff-4c2c-bb46-f2775f7b5972",
   "metadata": {},
   "outputs": [
    {
     "data": {
      "text/plain": [
       "['21914245-efeb-5fb0-ad0f-b80ef92443de',\n",
       " '427cffdb-aeb1-5907-ab60-a67c4f9a2ed0',\n",
       " '54233975-261e-50c7-b82a-bdc37450c8ff',\n",
       " '9081ab72-de57-5364-9269-8a4c9defd35c',\n",
       " 'a8b9d004-74f2-5a2d-9354-b8af872209b5',\n",
       " 'e9ca0a7a-2781-5de7-b274-9d2e240f7a35',\n",
       " 'ef229c81-d1c5-53c7-8860-c4a65810b157']"
      ]
     },
     "execution_count": 42,
     "metadata": {},
     "output_type": "execute_result"
    }
   ],
   "source": [
    "docs['ids']\n",
    "\n"
   ]
  },
  {
   "cell_type": "code",
   "execution_count": 55,
   "id": "c332fcf6-c0d3-4e23-973a-ce4e638e20ff",
   "metadata": {},
   "outputs": [],
   "source": [
    "docs['metadatas'][0]['tags'] = '[{\"tag_name\": \"data-integrity-and-monitoring\", \"score\": \"-9.567792\"}]'"
   ]
  },
  {
   "cell_type": "code",
   "execution_count": 56,
   "id": "9f4e545a-1f1b-4b0b-bcc3-8134b9f92cac",
   "metadata": {},
   "outputs": [],
   "source": [
    "document=Document(page_content=docs['documents'][0],metadata=docs['metadatas'][0])"
   ]
  },
  {
   "cell_type": "code",
   "execution_count": 57,
   "id": "65b6cbfe-f376-49c6-bd80-e5417f8e28af",
   "metadata": {},
   "outputs": [],
   "source": [
    "langchain_chroma.update_document(document_id=docs['ids'][0],document=document)"
   ]
  },
  {
   "cell_type": "code",
   "execution_count": null,
   "id": "e27d0c6f-467b-4a91-bc3b-8165cec39818",
   "metadata": {},
   "outputs": [],
   "source": []
  }
 ],
 "metadata": {
  "kernelspec": {
   "display_name": "Python 3 (ipykernel)",
   "language": "python",
   "name": "python3"
  },
  "language_info": {
   "codemirror_mode": {
    "name": "ipython",
    "version": 3
   },
   "file_extension": ".py",
   "mimetype": "text/x-python",
   "name": "python",
   "nbconvert_exporter": "python",
   "pygments_lexer": "ipython3",
   "version": "3.10.13"
  }
 },
 "nbformat": 4,
 "nbformat_minor": 5
}
